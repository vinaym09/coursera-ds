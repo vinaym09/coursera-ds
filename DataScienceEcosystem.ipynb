{
 "cells": [
  {
   "cell_type": "markdown",
   "id": "52cd00ce-584a-48ca-a8d7-11a3950be71b",
   "metadata": {
    "tags": []
   },
   "source": [
    "**Exercise 2 - Create a markdown cell with the title of the notebook. (1 pt)**"
   ]
  },
  {
   "cell_type": "markdown",
   "id": "ac765004-67fc-4ced-8a0f-cb43bdc5eea2",
   "metadata": {
    "tags": []
   },
   "source": [
    "# Data Science Tools and Ecosystem"
   ]
  },
  {
   "cell_type": "markdown",
   "id": "9dda9beb-4f09-40f3-bdb8-dc170ee44fdd",
   "metadata": {},
   "source": [
    "**Exercise 3 - Create a markdown cell for an introduction. (1 pt)**"
   ]
  },
  {
   "cell_type": "markdown",
   "id": "df3b61fb-902f-4fd1-aa8d-42d8d0c7c7f2",
   "metadata": {},
   "source": [
    "In this notebook, Data Science Tools and Ecosystem are summarized."
   ]
  },
  {
   "cell_type": "markdown",
   "id": "06f8dec0-23af-4e2f-95a4-51c9df1d12e9",
   "metadata": {},
   "source": [
    "**Exercise 10 -Insert a markdown cell to list Objectives. (3 pts)**"
   ]
  },
  {
   "cell_type": "markdown",
   "id": "1d72384c-edbe-43c0-becd-b6b443ae0c42",
   "metadata": {},
   "source": [
    "**Objectives:**\n",
    "- Popular languages in Data Science.\n",
    "- Popular libraries in Data Science.\n",
    "- Popular tools of Data Science.\n",
    "- Introduction to aritmatic expression in python.\n",
    "- Python Function to convert Minutes into Hours."
   ]
  },
  {
   "cell_type": "markdown",
   "id": "4f7c23d3-7659-48ba-b11f-24d1d9891c6f",
   "metadata": {},
   "source": [
    "**Exercise 4 - Create a markdown cell to list data science languages. (3 pts)**"
   ]
  },
  {
   "cell_type": "markdown",
   "id": "7737adfb-283e-46fb-967c-75365d344b78",
   "metadata": {},
   "source": [
    "Some of the popular languages that Data Scientists use are:\n",
    "1. Python\n",
    "2. R\n",
    "3. SQL\n",
    "4. Scala\n",
    "5. Julia\n",
    "6. MATLAB\n",
    "7. SAS\n",
    "8. c/c++\n"
   ]
  },
  {
   "cell_type": "markdown",
   "id": "e56b4b46-888a-44fd-9536-5125c81de192",
   "metadata": {},
   "source": [
    "**Exercise 5 - Create a markdown cell to list data science libraries. (3 pts)**"
   ]
  },
  {
   "cell_type": "markdown",
   "id": "97640aac-7919-494b-8535-27812532b1d2",
   "metadata": {
    "tags": []
   },
   "source": [
    "Some of the commonly used libraries used by Data Scientists include:\n",
    "\n",
    " In python\n",
    "1. Pandas\n",
    "2. Numpy\n",
    "3. TensorFlow\n",
    "4. Scikit\n",
    "5. Scipy\n",
    "6. Seaborns\n",
    "\n",
    "In R:\n",
    "1. Plotly\n",
    "2. DPlyr\n",
    "3. ggplot\n",
    "4. RCrawler\n"
   ]
  },
  {
   "cell_type": "markdown",
   "id": "ef24f906-067e-4a46-a76f-0bbfc2ef4b04",
   "metadata": {},
   "source": [
    "**Exercise 6 - Create a markdown cell with a table of Data Science tools. (3 pts)**"
   ]
  },
  {
   "cell_type": "markdown",
   "id": "9698c68d-f35a-451e-a80d-85e72174f92b",
   "metadata": {},
   "source": [
    "| Data Science Tools |\n",
    "| --- | \n",
    "| Python |\n",
    "| R |\n",
    "| Matplotlib |\n",
    "| SQL |\n",
    "| Deeplearning |\n"
   ]
  },
  {
   "cell_type": "markdown",
   "id": "8d02966c-4d57-4d7b-8585-3b1630d16a8b",
   "metadata": {},
   "source": [
    "**Exercise 7 - Create a markdown cell introducing arithmetic expression examples. (1 pt)**"
   ]
  },
  {
   "cell_type": "markdown",
   "id": "2069d702-479d-4f21-8316-37852169b72a",
   "metadata": {},
   "source": [
    "### Below are a few examples of evaluating arithmetic expressions in Python"
   ]
  },
  {
   "cell_type": "markdown",
   "id": "ed61e957-2d28-4c70-a1aa-09db3df9d7ca",
   "metadata": {},
   "source": [
    "**Exercise 8 - Create a code cell to multiply and add numbers. (2 pts)**"
   ]
  },
  {
   "cell_type": "code",
   "execution_count": 4,
   "id": "ebad1ed0-4d2f-48fd-b00a-0cff1f24d1d0",
   "metadata": {
    "tags": []
   },
   "outputs": [
    {
     "data": {
      "text/plain": [
       "7"
      ]
     },
     "execution_count": 4,
     "metadata": {},
     "output_type": "execute_result"
    }
   ],
   "source": [
    "3+4"
   ]
  },
  {
   "cell_type": "code",
   "execution_count": 5,
   "id": "84a61ccd-3e29-4fda-920f-79748bc6c933",
   "metadata": {
    "tags": []
   },
   "outputs": [
    {
     "data": {
      "text/plain": [
       "35"
      ]
     },
     "execution_count": 5,
     "metadata": {},
     "output_type": "execute_result"
    }
   ],
   "source": [
    "5*7"
   ]
  },
  {
   "cell_type": "code",
   "execution_count": 6,
   "id": "30112744-349d-4ba5-819c-bf9bf7c86aa2",
   "metadata": {
    "tags": []
   },
   "outputs": [
    {
     "data": {
      "text/plain": [
       "144"
      ]
     },
     "execution_count": 6,
     "metadata": {},
     "output_type": "execute_result"
    }
   ],
   "source": [
    "(5+7)*12"
   ]
  },
  {
   "cell_type": "markdown",
   "id": "6b190e01-52e1-4ae0-a82d-bf69a5daa0f4",
   "metadata": {},
   "source": [
    "**Exercise 9 - Create a code cell to convert minutes to hours. (2 pts)**"
   ]
  },
  {
   "cell_type": "markdown",
   "id": "5fc74bb6-50b4-4809-a9e0-22dc1073ec68",
   "metadata": {},
   "source": [
    "This will convert 200 minutes to hours by diving by 60."
   ]
  },
  {
   "cell_type": "code",
   "execution_count": 7,
   "id": "7055f398-4fe2-4604-9058-90435e04619f",
   "metadata": {
    "tags": []
   },
   "outputs": [
    {
     "name": "stdout",
     "output_type": "stream",
     "text": [
      "200 minutes is equal to 3.3333333333333335 hours.\n"
     ]
    }
   ],
   "source": [
    "def convert_minutes_to_hours(minutes):\n",
    "    hours = minutes / 60\n",
    "    return hours\n",
    "\n",
    "# Test the function\n",
    "minutes = 200\n",
    "hours = convert_minutes_to_hours(minutes)\n",
    "print(f\"{minutes} minutes is equal to {hours} hours.\")"
   ]
  },
  {
   "cell_type": "markdown",
   "id": "260d2620-6b65-434e-b340-6016000798bb",
   "metadata": {},
   "source": [
    "**Exercise 11 - Create a markdown cell to indicate the Author’s name. (2 pts)**"
   ]
  },
  {
   "cell_type": "markdown",
   "id": "e1a0dd98-6623-432c-ac1c-de371fad0744",
   "metadata": {},
   "source": [
    "## Author\n",
    "Vinay Mahamunkar"
   ]
  },
  {
   "cell_type": "code",
   "execution_count": null,
   "id": "7cac8696-ada4-4922-b2a1-df474504e58b",
   "metadata": {},
   "outputs": [],
   "source": []
  }
 ],
 "metadata": {
  "kernelspec": {
   "display_name": "Python",
   "language": "python",
   "name": "conda-env-python-py"
  },
  "language_info": {
   "codemirror_mode": {
    "name": "ipython",
    "version": 3
   },
   "file_extension": ".py",
   "mimetype": "text/x-python",
   "name": "python",
   "nbconvert_exporter": "python",
   "pygments_lexer": "ipython3",
   "version": "3.7.12"
  }
 },
 "nbformat": 4,
 "nbformat_minor": 5
}
